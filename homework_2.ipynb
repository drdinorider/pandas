{
 "cells": [
  {
   "cell_type": "markdown",
   "metadata": {},
   "source": [
    "\n",
    "## Pandas Homework 2<br>\n",
    "### Chicken Ear Cells<br>"
   ]
  },
  {
   "cell_type": "markdown",
   "metadata": {},
   "source": [
    "##### Importing the pandas module"
   ]
  },
  {
   "cell_type": "code",
   "execution_count": 15,
   "metadata": {},
   "outputs": [],
   "source": [
    "import pandas as pd"
   ]
  },
  {
   "cell_type": "markdown",
   "metadata": {},
   "source": [
    "##### Reading in data file"
   ]
  },
  {
   "cell_type": "code",
   "execution_count": 16,
   "metadata": {},
   "outputs": [
    {
     "data": {
      "text/plain": [
       "<bound method NDFrame.head of           observations cell_type celltrails_state timepoint gene_symbol  \\\n",
       "0        A1_SF18101201       D1S               S6       16h        A1CF   \n",
       "1        A1_SF18101208        CS               S1       16h        A1CF   \n",
       "2        A1_SF18101212       D1T               S3       20h        A1CF   \n",
       "3        A1_SF18101225       D1S               S6       12h        A1CF   \n",
       "4        A1_SF18103121       D1T               S3       20h        A1CF   \n",
       "...                ...       ...              ...       ...         ...   \n",
       "4463503  H2_SF18101219       D2T               S4       20h        ZZZ3   \n",
       "4463504  H3_SF18101219       D1T               S3       20h        ZZZ3   \n",
       "4463505  H5_SF18101211       D2S               S5       20h        ZZZ3   \n",
       "4463506  H6_SF18101211       D1S               S6       20h        ZZZ3   \n",
       "4463507  H6_SF18101219       D2T               S4       20h        ZZZ3   \n",
       "\n",
       "         expression  \n",
       "0          0.000000  \n",
       "1          0.000000  \n",
       "2          0.000000  \n",
       "3          0.000000  \n",
       "4          0.000000  \n",
       "...             ...  \n",
       "4463503    0.000000  \n",
       "4463504    9.001211  \n",
       "4463505    6.195938  \n",
       "4463506    9.173127  \n",
       "4463507    3.462052  \n",
       "\n",
       "[4463508 rows x 6 columns]>"
      ]
     },
     "execution_count": 16,
     "metadata": {},
     "output_type": "execute_result"
    }
   ],
   "source": [
    "df = pd.read_csv(r\"C:\\Users\\bgrisso\\Downloads\\heller_chicken_hair_cells_expression.csv\")\n",
    "df.head"
   ]
  },
  {
   "cell_type": "markdown",
   "metadata": {},
   "source": [
    "#### Printing max gene expr for \"S6\" celltrails state"
   ]
  },
  {
   "cell_type": "code",
   "execution_count": 17,
   "metadata": {},
   "outputs": [
    {
     "data": {
      "text/plain": [
       "expression    15.223591\n",
       "dtype: float64"
      ]
     },
     "execution_count": 17,
     "metadata": {},
     "output_type": "execute_result"
    }
   ],
   "source": [
    "df.loc[df[\"celltrails_state\"] == \"S6\", [\"expression\"]].max()\n"
   ]
  },
  {
   "cell_type": "markdown",
   "metadata": {},
   "source": [
    "#### Printing the top 5 genes with the highest expression value for \"D2S\" cell type at timepoint 0h "
   ]
  },
  {
   "cell_type": "code",
   "execution_count": 34,
   "metadata": {},
   "outputs": [
    {
     "data": {
      "text/html": [
       "<div>\n",
       "<style scoped>\n",
       "    .dataframe tbody tr th:only-of-type {\n",
       "        vertical-align: middle;\n",
       "    }\n",
       "\n",
       "    .dataframe tbody tr th {\n",
       "        vertical-align: top;\n",
       "    }\n",
       "\n",
       "    .dataframe thead th {\n",
       "        text-align: right;\n",
       "    }\n",
       "</style>\n",
       "<table border=\"1\" class=\"dataframe\">\n",
       "  <thead>\n",
       "    <tr style=\"text-align: right;\">\n",
       "      <th></th>\n",
       "      <th>gene_symbol</th>\n",
       "      <th>expression</th>\n",
       "    </tr>\n",
       "  </thead>\n",
       "  <tbody>\n",
       "    <tr>\n",
       "      <th>78</th>\n",
       "      <td>A1CF</td>\n",
       "      <td>0.0</td>\n",
       "    </tr>\n",
       "    <tr>\n",
       "      <th>268</th>\n",
       "      <td>A1CF</td>\n",
       "      <td>0.0</td>\n",
       "    </tr>\n",
       "    <tr>\n",
       "      <th>372</th>\n",
       "      <td>A2M</td>\n",
       "      <td>0.0</td>\n",
       "    </tr>\n",
       "    <tr>\n",
       "      <th>562</th>\n",
       "      <td>A2M</td>\n",
       "      <td>0.0</td>\n",
       "    </tr>\n",
       "    <tr>\n",
       "      <th>666</th>\n",
       "      <td>A2ML1</td>\n",
       "      <td>0.0</td>\n",
       "    </tr>\n",
       "    <tr>\n",
       "      <th>...</th>\n",
       "      <td>...</td>\n",
       "      <td>...</td>\n",
       "    </tr>\n",
       "    <tr>\n",
       "      <th>4462894</th>\n",
       "      <td>ZYG11B</td>\n",
       "      <td>0.0</td>\n",
       "    </tr>\n",
       "    <tr>\n",
       "      <th>4462998</th>\n",
       "      <td>ZYX</td>\n",
       "      <td>0.0</td>\n",
       "    </tr>\n",
       "    <tr>\n",
       "      <th>4463188</th>\n",
       "      <td>ZYX</td>\n",
       "      <td>0.0</td>\n",
       "    </tr>\n",
       "    <tr>\n",
       "      <th>4463292</th>\n",
       "      <td>ZZZ3</td>\n",
       "      <td>0.0</td>\n",
       "    </tr>\n",
       "    <tr>\n",
       "      <th>4463482</th>\n",
       "      <td>ZZZ3</td>\n",
       "      <td>0.0</td>\n",
       "    </tr>\n",
       "  </tbody>\n",
       "</table>\n",
       "<p>30364 rows × 2 columns</p>\n",
       "</div>"
      ],
      "text/plain": [
       "        gene_symbol  expression\n",
       "78             A1CF         0.0\n",
       "268            A1CF         0.0\n",
       "372             A2M         0.0\n",
       "562             A2M         0.0\n",
       "666           A2ML1         0.0\n",
       "...             ...         ...\n",
       "4462894      ZYG11B         0.0\n",
       "4462998         ZYX         0.0\n",
       "4463188         ZYX         0.0\n",
       "4463292        ZZZ3         0.0\n",
       "4463482        ZZZ3         0.0\n",
       "\n",
       "[30364 rows x 2 columns]"
      ]
     },
     "execution_count": 34,
     "metadata": {},
     "output_type": "execute_result"
    }
   ],
   "source": [
    "gen_ex = df.loc[\n",
    "    (df[\"cell_type\"] == \"D2S\") & (df[\"timepoint\"] == \"0h\"),\n",
    "    [\"gene_symbol\", \"expression\"]\n",
    "    ]\n",
    "gen_ex"
   ]
  },
  {
   "cell_type": "code",
   "execution_count": 74,
   "metadata": {},
   "outputs": [
    {
     "data": {
      "text/html": [
       "<div>\n",
       "<style scoped>\n",
       "    .dataframe tbody tr th:only-of-type {\n",
       "        vertical-align: middle;\n",
       "    }\n",
       "\n",
       "    .dataframe tbody tr th {\n",
       "        vertical-align: top;\n",
       "    }\n",
       "\n",
       "    .dataframe thead th {\n",
       "        text-align: right;\n",
       "    }\n",
       "</style>\n",
       "<table border=\"1\" class=\"dataframe\">\n",
       "  <thead>\n",
       "    <tr style=\"text-align: right;\">\n",
       "      <th></th>\n",
       "      <th>expression</th>\n",
       "    </tr>\n",
       "    <tr>\n",
       "      <th>gene_symbol</th>\n",
       "      <th></th>\n",
       "    </tr>\n",
       "  </thead>\n",
       "  <tbody>\n",
       "    <tr>\n",
       "      <th>CALB1</th>\n",
       "      <td>14.637500</td>\n",
       "    </tr>\n",
       "    <tr>\n",
       "      <th>OCM</th>\n",
       "      <td>13.644239</td>\n",
       "    </tr>\n",
       "    <tr>\n",
       "      <th>GADL1</th>\n",
       "      <td>12.326830</td>\n",
       "    </tr>\n",
       "    <tr>\n",
       "      <th>MYO6</th>\n",
       "      <td>12.039385</td>\n",
       "    </tr>\n",
       "    <tr>\n",
       "      <th>TECTB</th>\n",
       "      <td>11.892781</td>\n",
       "    </tr>\n",
       "  </tbody>\n",
       "</table>\n",
       "</div>"
      ],
      "text/plain": [
       "             expression\n",
       "gene_symbol            \n",
       "CALB1         14.637500\n",
       "OCM           13.644239\n",
       "GADL1         12.326830\n",
       "MYO6          12.039385\n",
       "TECTB         11.892781"
      ]
     },
     "execution_count": 74,
     "metadata": {},
     "output_type": "execute_result"
    }
   ],
   "source": [
    "grouped = gen_ex.groupby(\"gene_symbol\")\n",
    "mean = grouped.mean().sort_values(ascending=False, by=\"expression\")\n",
    "mean.head(5)"
   ]
  }
 ],
 "metadata": {
  "kernelspec": {
   "display_name": "Python 3.8.13 ('Coding728')",
   "language": "python",
   "name": "python3"
  },
  "language_info": {
   "codemirror_mode": {
    "name": "ipython",
    "version": 3
   },
   "file_extension": ".py",
   "mimetype": "text/x-python",
   "name": "python",
   "nbconvert_exporter": "python",
   "pygments_lexer": "ipython3",
   "version": "3.8.13"
  },
  "orig_nbformat": 4,
  "vscode": {
   "interpreter": {
    "hash": "4de23db89924f02bacb69a96a688cf4b1cf087874b26800017e754537cca6533"
   }
  }
 },
 "nbformat": 4,
 "nbformat_minor": 2
}
