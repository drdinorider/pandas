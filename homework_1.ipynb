{
 "cells": [
  {
   "cell_type": "markdown",
   "metadata": {},
   "source": [
    "\n",
    "\n",
    "## Pandas Homework<br>\n",
    "### Chicken Ear Cells<br>"
   ]
  },
  {
   "cell_type": "markdown",
   "metadata": {},
   "source": [
    "##### Importing the pandas module"
   ]
  },
  {
   "cell_type": "code",
   "execution_count": 7,
   "metadata": {},
   "outputs": [],
   "source": [
    "import pandas as pd"
   ]
  },
  {
   "cell_type": "markdown",
   "metadata": {},
   "source": [
    "##### Reading in data file, and observing structure"
   ]
  },
  {
   "cell_type": "code",
   "execution_count": 8,
   "metadata": {},
   "outputs": [
    {
     "data": {
      "text/plain": [
       "<bound method NDFrame.head of           observations cell_type celltrails_state timepoint gene_symbol  \\\n",
       "0        A1_SF18101201       D1S               S6       16h        A1CF   \n",
       "1        A1_SF18101208        CS               S1       16h        A1CF   \n",
       "2        A1_SF18101212       D1T               S3       20h        A1CF   \n",
       "3        A1_SF18101225       D1S               S6       12h        A1CF   \n",
       "4        A1_SF18103121       D1T               S3       20h        A1CF   \n",
       "...                ...       ...              ...       ...         ...   \n",
       "4463503  H2_SF18101219       D2T               S4       20h        ZZZ3   \n",
       "4463504  H3_SF18101219       D1T               S3       20h        ZZZ3   \n",
       "4463505  H5_SF18101211       D2S               S5       20h        ZZZ3   \n",
       "4463506  H6_SF18101211       D1S               S6       20h        ZZZ3   \n",
       "4463507  H6_SF18101219       D2T               S4       20h        ZZZ3   \n",
       "\n",
       "         expression  \n",
       "0          0.000000  \n",
       "1          0.000000  \n",
       "2          0.000000  \n",
       "3          0.000000  \n",
       "4          0.000000  \n",
       "...             ...  \n",
       "4463503    0.000000  \n",
       "4463504    9.001211  \n",
       "4463505    6.195938  \n",
       "4463506    9.173127  \n",
       "4463507    3.462052  \n",
       "\n",
       "[4463508 rows x 6 columns]>"
      ]
     },
     "execution_count": 8,
     "metadata": {},
     "output_type": "execute_result"
    }
   ],
   "source": [
    "df = pd.read_csv(r\"C:\\Users\\bgrisso\\Downloads\\heller_chicken_hair_cells_expression.csv\")\n",
    "df.head"
   ]
  },
  {
   "cell_type": "markdown",
   "metadata": {},
   "source": [
    "##### Printing out all the unique values from \"celltrails_state\""
   ]
  },
  {
   "cell_type": "code",
   "execution_count": 9,
   "metadata": {},
   "outputs": [
    {
     "data": {
      "text/plain": [
       "array(['S6', 'S1', 'S3', 'S2', 'S5', 'S4'], dtype=object)"
      ]
     },
     "execution_count": 9,
     "metadata": {},
     "output_type": "execute_result"
    }
   ],
   "source": [
    "df[\"celltrails_state\"].unique()"
   ]
  },
  {
   "cell_type": "markdown",
   "metadata": {},
   "source": [
    "##### Printing dataframe that includes only gene \"AGA\" and cell type \"CS\""
   ]
  },
  {
   "cell_type": "code",
   "execution_count": 16,
   "metadata": {},
   "outputs": [
    {
     "data": {
      "text/html": [
       "<div>\n",
       "<style scoped>\n",
       "    .dataframe tbody tr th:only-of-type {\n",
       "        vertical-align: middle;\n",
       "    }\n",
       "\n",
       "    .dataframe tbody tr th {\n",
       "        vertical-align: top;\n",
       "    }\n",
       "\n",
       "    .dataframe thead th {\n",
       "        text-align: right;\n",
       "    }\n",
       "</style>\n",
       "<table border=\"1\" class=\"dataframe\">\n",
       "  <thead>\n",
       "    <tr style=\"text-align: right;\">\n",
       "      <th></th>\n",
       "      <th>observations</th>\n",
       "      <th>cell_type</th>\n",
       "      <th>celltrails_state</th>\n",
       "      <th>timepoint</th>\n",
       "      <th>gene_symbol</th>\n",
       "      <th>expression</th>\n",
       "    </tr>\n",
       "  </thead>\n",
       "  <tbody>\n",
       "    <tr>\n",
       "      <th>99961</th>\n",
       "      <td>A1_SF18101208</td>\n",
       "      <td>CS</td>\n",
       "      <td>S1</td>\n",
       "      <td>16h</td>\n",
       "      <td>AGA</td>\n",
       "      <td>7.860094</td>\n",
       "    </tr>\n",
       "    <tr>\n",
       "      <th>99965</th>\n",
       "      <td>A10_SF18100504</td>\n",
       "      <td>CS</td>\n",
       "      <td>S1</td>\n",
       "      <td>0h</td>\n",
       "      <td>AGA</td>\n",
       "      <td>0.000000</td>\n",
       "    </tr>\n",
       "    <tr>\n",
       "      <th>99966</th>\n",
       "      <td>A10_SF18101201</td>\n",
       "      <td>CS</td>\n",
       "      <td>S1</td>\n",
       "      <td>16h</td>\n",
       "      <td>AGA</td>\n",
       "      <td>0.000000</td>\n",
       "    </tr>\n",
       "    <tr>\n",
       "      <th>99970</th>\n",
       "      <td>A11_SF18100502</td>\n",
       "      <td>CS</td>\n",
       "      <td>S1</td>\n",
       "      <td>0h</td>\n",
       "      <td>AGA</td>\n",
       "      <td>6.929436</td>\n",
       "    </tr>\n",
       "    <tr>\n",
       "      <th>99971</th>\n",
       "      <td>A11_SF18101201</td>\n",
       "      <td>CS</td>\n",
       "      <td>S1</td>\n",
       "      <td>16h</td>\n",
       "      <td>AGA</td>\n",
       "      <td>2.198494</td>\n",
       "    </tr>\n",
       "    <tr>\n",
       "      <th>...</th>\n",
       "      <td>...</td>\n",
       "      <td>...</td>\n",
       "      <td>...</td>\n",
       "      <td>...</td>\n",
       "      <td>...</td>\n",
       "      <td>...</td>\n",
       "    </tr>\n",
       "    <tr>\n",
       "      <th>100217</th>\n",
       "      <td>F9_SF18101201</td>\n",
       "      <td>CS</td>\n",
       "      <td>S1</td>\n",
       "      <td>16h</td>\n",
       "      <td>AGA</td>\n",
       "      <td>0.000000</td>\n",
       "    </tr>\n",
       "    <tr>\n",
       "      <th>100231</th>\n",
       "      <td>G3_SF18100502</td>\n",
       "      <td>CS</td>\n",
       "      <td>S1</td>\n",
       "      <td>0h</td>\n",
       "      <td>AGA</td>\n",
       "      <td>0.000000</td>\n",
       "    </tr>\n",
       "    <tr>\n",
       "      <th>100233</th>\n",
       "      <td>G5_SF18100501</td>\n",
       "      <td>CS</td>\n",
       "      <td>S1</td>\n",
       "      <td>0h</td>\n",
       "      <td>AGA</td>\n",
       "      <td>0.000000</td>\n",
       "    </tr>\n",
       "    <tr>\n",
       "      <th>100234</th>\n",
       "      <td>G5_SF18100502</td>\n",
       "      <td>CS</td>\n",
       "      <td>S1</td>\n",
       "      <td>0h</td>\n",
       "      <td>AGA</td>\n",
       "      <td>0.000000</td>\n",
       "    </tr>\n",
       "    <tr>\n",
       "      <th>100246</th>\n",
       "      <td>G8_SF18101211</td>\n",
       "      <td>CS</td>\n",
       "      <td>S1</td>\n",
       "      <td>20h</td>\n",
       "      <td>AGA</td>\n",
       "      <td>6.357728</td>\n",
       "    </tr>\n",
       "  </tbody>\n",
       "</table>\n",
       "<p>76 rows × 6 columns</p>\n",
       "</div>"
      ],
      "text/plain": [
       "          observations cell_type celltrails_state timepoint gene_symbol  \\\n",
       "99961    A1_SF18101208        CS               S1       16h         AGA   \n",
       "99965   A10_SF18100504        CS               S1        0h         AGA   \n",
       "99966   A10_SF18101201        CS               S1       16h         AGA   \n",
       "99970   A11_SF18100502        CS               S1        0h         AGA   \n",
       "99971   A11_SF18101201        CS               S1       16h         AGA   \n",
       "...                ...       ...              ...       ...         ...   \n",
       "100217   F9_SF18101201        CS               S1       16h         AGA   \n",
       "100231   G3_SF18100502        CS               S1        0h         AGA   \n",
       "100233   G5_SF18100501        CS               S1        0h         AGA   \n",
       "100234   G5_SF18100502        CS               S1        0h         AGA   \n",
       "100246   G8_SF18101211        CS               S1       20h         AGA   \n",
       "\n",
       "        expression  \n",
       "99961     7.860094  \n",
       "99965     0.000000  \n",
       "99966     0.000000  \n",
       "99970     6.929436  \n",
       "99971     2.198494  \n",
       "...            ...  \n",
       "100217    0.000000  \n",
       "100231    0.000000  \n",
       "100233    0.000000  \n",
       "100234    0.000000  \n",
       "100246    6.357728  \n",
       "\n",
       "[76 rows x 6 columns]"
      ]
     },
     "execution_count": 16,
     "metadata": {},
     "output_type": "execute_result"
    }
   ],
   "source": [
    "df[\n",
    "    (df[\"cell_type\"]==\"CS\") & \n",
    "    (df[\"gene_symbol\"]==\"AGA\")]"
   ]
  },
  {
   "cell_type": "markdown",
   "metadata": {},
   "source": [
    "##### Returning a count of how many DataFrame rows have expression > 0.0"
   ]
  },
  {
   "cell_type": "code",
   "execution_count": 34,
   "metadata": {},
   "outputs": [
    {
     "data": {
      "text/plain": [
       "4463508"
      ]
     },
     "execution_count": 34,
     "metadata": {},
     "output_type": "execute_result"
    }
   ],
   "source": [
    "(df[\"expression\"] > 0).count()"
   ]
  },
  {
   "cell_type": "markdown",
   "metadata": {},
   "source": [
    "##### Returning a count of how many DataFrame rows have expression > 0.0 only for gene \"AGA\" and cell type \"CS\""
   ]
  },
  {
   "cell_type": "code",
   "execution_count": 43,
   "metadata": {},
   "outputs": [
    {
     "data": {
      "text/plain": [
       "30"
      ]
     },
     "execution_count": 43,
     "metadata": {},
     "output_type": "execute_result"
    }
   ],
   "source": [
    "df_filt = df[\n",
    "    (df[\"cell_type\"]==\"CS\") & \n",
    "    (df[\"gene_symbol\"]==\"AGA\") &\n",
    "    (df[\"expression\"] > 0)\n",
    "]\n",
    "\n",
    "df_filt[\"observations\"].count()"
   ]
  },
  {
   "cell_type": "markdown",
   "metadata": {},
   "source": [
    "##### Expression Value of DataFrame row at index \"211111\" "
   ]
  },
  {
   "cell_type": "code",
   "execution_count": 57,
   "metadata": {},
   "outputs": [
    {
     "data": {
      "text/plain": [
       "8.230405"
      ]
     },
     "execution_count": 57,
     "metadata": {},
     "output_type": "execute_result"
    }
   ],
   "source": [
    "df[\"expression\"].iloc[211111]"
   ]
  }
 ],
 "metadata": {
  "kernelspec": {
   "display_name": "Python 3.8.13 ('Coding728')",
   "language": "python",
   "name": "python3"
  },
  "language_info": {
   "codemirror_mode": {
    "name": "ipython",
    "version": 3
   },
   "file_extension": ".py",
   "mimetype": "text/x-python",
   "name": "python",
   "nbconvert_exporter": "python",
   "pygments_lexer": "ipython3",
   "version": "3.8.13"
  },
  "orig_nbformat": 4,
  "vscode": {
   "interpreter": {
    "hash": "4de23db89924f02bacb69a96a688cf4b1cf087874b26800017e754537cca6533"
   }
  }
 },
 "nbformat": 4,
 "nbformat_minor": 2
}
