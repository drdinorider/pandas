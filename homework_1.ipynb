{
 "cells": [
  {
   "cell_type": "markdown",
   "metadata": {},
   "source": [
    "\n",
    "\n",
    "## Pandas Homework<br>\n",
    "### Chicken Ear Cells<br>"
   ]
  },
  {
   "cell_type": "markdown",
   "metadata": {},
   "source": [
    "##### Importing the pandas module"
   ]
  },
  {
   "cell_type": "code",
   "execution_count": 2,
   "metadata": {},
   "outputs": [],
   "source": [
    "import pandas as pd"
   ]
  },
  {
   "cell_type": "markdown",
   "metadata": {},
   "source": [
    "##### Reading in data file, and observing structure"
   ]
  },
  {
   "cell_type": "code",
   "execution_count": 6,
   "metadata": {},
   "outputs": [
    {
     "data": {
      "text/plain": [
       "<bound method NDFrame.head of           observations cell_type celltrails_state timepoint gene_symbol  \\\n",
       "0        A1_SF18101201       D1S               S6       16h        A1CF   \n",
       "1        A1_SF18101208        CS               S1       16h        A1CF   \n",
       "2        A1_SF18101212       D1T               S3       20h        A1CF   \n",
       "3        A1_SF18101225       D1S               S6       12h        A1CF   \n",
       "4        A1_SF18103121       D1T               S3       20h        A1CF   \n",
       "...                ...       ...              ...       ...         ...   \n",
       "4463503  H2_SF18101219       D2T               S4       20h        ZZZ3   \n",
       "4463504  H3_SF18101219       D1T               S3       20h        ZZZ3   \n",
       "4463505  H5_SF18101211       D2S               S5       20h        ZZZ3   \n",
       "4463506  H6_SF18101211       D1S               S6       20h        ZZZ3   \n",
       "4463507  H6_SF18101219       D2T               S4       20h        ZZZ3   \n",
       "\n",
       "         expression  \n",
       "0          0.000000  \n",
       "1          0.000000  \n",
       "2          0.000000  \n",
       "3          0.000000  \n",
       "4          0.000000  \n",
       "...             ...  \n",
       "4463503    0.000000  \n",
       "4463504    9.001211  \n",
       "4463505    6.195938  \n",
       "4463506    9.173127  \n",
       "4463507    3.462052  \n",
       "\n",
       "[4463508 rows x 6 columns]>"
      ]
     },
     "execution_count": 6,
     "metadata": {},
     "output_type": "execute_result"
    }
   ],
   "source": [
    "df = pd.read_csv(r\"C:\\Users\\bgrisso\\Downloads\\heller_chicken_hair_cells_expression.csv\")\n",
    "df.head"
   ]
  },
  {
   "cell_type": "markdown",
   "metadata": {},
   "source": [
    "##### Printing out all the unique values from \"celltrails_state\""
   ]
  },
  {
   "cell_type": "code",
   "execution_count": 9,
   "metadata": {},
   "outputs": [
    {
     "data": {
      "text/plain": [
       "array(['S6', 'S1', 'S3', 'S2', 'S5', 'S4'], dtype=object)"
      ]
     },
     "execution_count": 9,
     "metadata": {},
     "output_type": "execute_result"
    }
   ],
   "source": [
    "df[\"celltrails_state\"].unique()"
   ]
  }
 ],
 "metadata": {
  "kernelspec": {
   "display_name": "Python 3.8.13 ('Coding728')",
   "language": "python",
   "name": "python3"
  },
  "language_info": {
   "codemirror_mode": {
    "name": "ipython",
    "version": 3
   },
   "file_extension": ".py",
   "mimetype": "text/x-python",
   "name": "python",
   "nbconvert_exporter": "python",
   "pygments_lexer": "ipython3",
   "version": "3.8.13"
  },
  "orig_nbformat": 4,
  "vscode": {
   "interpreter": {
    "hash": "4de23db89924f02bacb69a96a688cf4b1cf087874b26800017e754537cca6533"
   }
  }
 },
 "nbformat": 4,
 "nbformat_minor": 2
}
